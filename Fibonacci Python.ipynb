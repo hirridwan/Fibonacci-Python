{
 "cells": [
  {
   "cell_type": "code",
   "execution_count": 2,
   "id": "c92c1a63",
   "metadata": {},
   "outputs": [
    {
     "name": "stdout",
     "output_type": "stream",
     "text": [
      "Masukkan jumlah angka fibonacci yang ingin ditampilkan: 5\n",
      "Hasil:\n",
      "0, 1, 1, 2, 3, "
     ]
    }
   ],
   "source": [
    "def fibonacci(n):\n",
    "  if n <= 0:\n",
    "    return 0\n",
    "  elif n == 1:\n",
    "    return 1\n",
    "  else:\n",
    "    return fibonacci(n-1) + fibonacci(n-2)\n",
    "\n",
    "# Meminta input dari user\n",
    "n = int(input(\"Masukkan jumlah angka fibonacci yang ingin ditampilkan: \"))\n",
    "\n",
    "# Menampilkan hasil\n",
    "print(\"Hasil:\")\n",
    "for i in range(n):\n",
    "  print(fibonacci(i), end=\", \")\n"
   ]
  },
  {
   "cell_type": "code",
   "execution_count": null,
   "id": "75406cf7",
   "metadata": {},
   "outputs": [],
   "source": []
  }
 ],
 "metadata": {
  "kernelspec": {
   "display_name": "Python 3 (ipykernel)",
   "language": "python",
   "name": "python3"
  },
  "language_info": {
   "codemirror_mode": {
    "name": "ipython",
    "version": 3
   },
   "file_extension": ".py",
   "mimetype": "text/x-python",
   "name": "python",
   "nbconvert_exporter": "python",
   "pygments_lexer": "ipython3",
   "version": "3.11.1"
  }
 },
 "nbformat": 4,
 "nbformat_minor": 5
}
